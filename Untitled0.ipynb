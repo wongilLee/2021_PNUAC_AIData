{
  "nbformat": 4,
  "nbformat_minor": 0,
  "metadata": {
    "colab": {
      "name": "Untitled0.ipynb",
      "provenance": [],
      "collapsed_sections": [],
      "include_colab_link": true
    },
    "kernelspec": {
      "name": "python3",
      "display_name": "Python 3"
    },
    "language_info": {
      "name": "python"
    }
  },
  "cells": [
    {
      "cell_type": "markdown",
      "metadata": {
        "id": "view-in-github",
        "colab_type": "text"
      },
      "source": [
        "<a href=\"https://colab.research.google.com/github/wongilLee/2021_PNUAC_AIData/blob/main/Untitled0.ipynb\" target=\"_parent\"><img src=\"https://colab.research.google.com/assets/colab-badge.svg\" alt=\"Open In Colab\"/></a>"
      ]
    },
    {
      "cell_type": "markdown",
      "metadata": {
        "id": "yGpX-qvK4XW4"
      },
      "source": [
        "스크랩핑 - 이건희"
      ]
    },
    {
      "cell_type": "code",
      "metadata": {
        "id": "Kq2CwXbj5ZBl"
      },
      "source": [
        "from urllib.request import urlopen\n",
        "from bs4 import BeautifulSoup as bs"
      ],
      "execution_count": null,
      "outputs": []
    },
    {
      "cell_type": "code",
      "metadata": {
        "id": "7XCUC3Aa4Nu0",
        "colab": {
          "base_uri": "https://localhost:8080/",
          "height": 70
        },
        "outputId": "f4185835-0e98-4133-ad6d-77ac15de3a49"
      },
      "source": [
        "url = 'https://www.weather.go.kr/w/weather/forecast/short-term.do'\n",
        "webpage = urlopen(url).read().decode('utf-8')\n",
        "webpage[:200]"
      ],
      "execution_count": null,
      "outputs": [
        {
          "output_type": "execute_result",
          "data": {
            "application/vnd.google.colaboratory.intrinsic+json": {
              "type": "string"
            },
            "text/plain": [
              "'<!DOCTYPE html>\\r\\n<html lang=\"ko\">\\n\\t<head>\\n\\t\\t<title>단기예보 - 기상청 날씨누리</title>\\n\\t\\t<meta charset=\"utf-8\" />\\n\\t\\t<meta name=\"viewport\" content=\"width=device-width, initial-scale=1.0, minimum-scale=1.0, user-sc'"
            ]
          },
          "metadata": {
            "tags": []
          },
          "execution_count": 17
        }
      ]
    },
    {
      "cell_type": "markdown",
      "metadata": {
        "id": "Oqkhjpvx4U5I"
      },
      "source": [
        "스크랩핑한 데이터 bs객체로 만들기 - 김병관"
      ]
    },
    {
      "cell_type": "code",
      "metadata": {
        "id": "Pln8owWH4TVe",
        "colab": {
          "base_uri": "https://localhost:8080/"
        },
        "outputId": "f8ff1858-d7bd-4e64-c9ca-25fadb37504d"
      },
      "source": [
        "from bs4 import BeautifulSoup as bs\n",
        " \n",
        "html = bs(webpage, 'lxml')\n",
        "type(html)"
      ],
      "execution_count": null,
      "outputs": [
        {
          "output_type": "execute_result",
          "data": {
            "text/plain": [
              "bs4.BeautifulSoup"
            ]
          },
          "metadata": {
            "tags": []
          },
          "execution_count": 18
        }
      ]
    },
    {
      "cell_type": "markdown",
      "metadata": {
        "id": "mdmPnNiE4aKk"
      },
      "source": [
        "bs객체에서 데이터 태그 찾기 - 이현서"
      ]
    },
    {
      "cell_type": "code",
      "metadata": {
        "id": "LRfDzYhH4TeM",
        "colab": {
          "base_uri": "https://localhost:8080/"
        },
        "outputId": "a8f31d93-9fcc-44ac-c930-406843905acc"
      },
      "source": [
        "type(html)\n",
        "tag = html.find(\"p\", attrs={\"class\":'summary'})\n",
        "print(tag)\n",
        "type(tag)"
      ],
      "execution_count": null,
      "outputs": [
        {
          "output_type": "stream",
          "text": [
            "<p class=\"summary\"><span class=\"depth_1\">□  (종합) 오늘과 내일 소나기 곳, 무더위 유의</span><span class=\"depth_2\">○  (오늘) 전국 구름많음, 밤까지 전국 소나기 곳</span><span class=\"depth_2\">○  (내일) 전국 가끔 구름많음, 중부지방은 새벽부터 오후 사이, 전라동부내륙과 경북권, 경남내륙은 낮부터 오후 사이 소나기 곳</span><span class=\"depth_2\">○  (모레) 전국 가끔 구름많음, 낮 동안 강원산지, 경북북부, 경북남부동해안 소나기 곳</span><span class=\"depth_2\">○  (글피) 전국 가끔 구름많음<br/>\n",
            "</span><span class=\"depth_1\">□  소나기에 의한 예상 강수량</span><span class=\"depth_2\">○  (11일) 전국: 5~60mm(많은 곳 80mm 이상)</span><span class=\"depth_2\">○  (12일) 중부지방, 전라동부내륙, 경북권, 경남내륙: 5~40mm</span></p>\n"
          ],
          "name": "stdout"
        },
        {
          "output_type": "execute_result",
          "data": {
            "text/plain": [
              "bs4.element.Tag"
            ]
          },
          "metadata": {
            "tags": []
          },
          "execution_count": 19
        }
      ]
    },
    {
      "cell_type": "markdown",
      "metadata": {
        "id": "z3ZlWUgN4an1"
      },
      "source": [
        "데이터 출력 - 이원길"
      ]
    },
    {
      "cell_type": "code",
      "metadata": {
        "id": "0JDlH3Nm4TnL",
        "colab": {
          "base_uri": "https://localhost:8080/"
        },
        "outputId": "2e0a78d0-495f-49f4-8828-ae7bcd081ce1"
      },
      "source": [
        "get_text= tag.text \n",
        "print(get_text.replace(\"□\",\"\\n□\").replace(\"○\",\"\\n\\t○\"))"
      ],
      "execution_count": null,
      "outputs": [
        {
          "output_type": "stream",
          "text": [
            "\n",
            "□  (종합) 오늘과 내일 소나기 곳, 무더위 유의\n",
            "\t○  (오늘) 전국 구름많음, 밤까지 전국 소나기 곳\n",
            "\t○  (내일) 전국 가끔 구름많음, 중부지방은 새벽부터 오후 사이, 전라동부내륙과 경북권, 경남내륙은 낮부터 오후 사이 소나기 곳\n",
            "\t○  (모레) 전국 가끔 구름많음, 낮 동안 강원산지, 경북북부, 경북남부동해안 소나기 곳\n",
            "\t○  (글피) 전국 가끔 구름많음\n",
            "\n",
            "□  소나기에 의한 예상 강수량\n",
            "\t○  (11일) 전국: 5~60mm(많은 곳 80mm 이상)\n",
            "\t○  (12일) 중부지방, 전라동부내륙, 경북권, 경남내륙: 5~40mm\n"
          ],
          "name": "stdout"
        }
      ]
    }
  ]
}